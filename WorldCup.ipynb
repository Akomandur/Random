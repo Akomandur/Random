{
 "cells": [
  {
   "cell_type": "code",
   "execution_count": 15,
   "metadata": {},
   "outputs": [],
   "source": [
    "import json\n",
    "import requests\n",
    "import pandas as pd\n",
    "from bs4 import BeautifulSoup"
   ]
  },
  {
   "cell_type": "code",
   "execution_count": 16,
   "metadata": {},
   "outputs": [],
   "source": [
    "data = requests.get('https://worldcup.sfg.io/teams/results')"
   ]
  },
  {
   "cell_type": "code",
   "execution_count": 17,
   "metadata": {},
   "outputs": [],
   "source": [
    "j = data.json()"
   ]
  },
  {
   "cell_type": "code",
   "execution_count": 18,
   "metadata": {},
   "outputs": [],
   "source": [
    "Abhishek = ['Brazil', 'Denmark', 'Switzerland', 'Tunisia']\n",
    "Ravindu = ['Germany', 'Peru', 'Serbia', 'Saudi Arabia']\n",
    "Zack = ['Spain', 'Russia', 'Sweden', 'Iceland']\n",
    "Kedar = ['Belgium', 'Mexico', 'Egypt', 'Australia']\n",
    "Monal = ['France', 'Croatia', 'Senegal', 'Japan']\n",
    "Daniel = ['Uruguay', 'Poland', 'Nigeria', 'Iran']\n",
    "Harish = ['England', 'Colombia', 'Costa Rica', 'Morocco']\n",
    "Abhay = ['Portugal', 'Argentina', 'Panama', 'Korea Republic']\n",
    "people = {'Abhishek': Abhishek, 'Ravindu':Ravindu, 'Zack': Zack, 'Kedar': Kedar, 'Monal': Monal, 'Daniel': Daniel, 'Harish' :Harish, 'Abhay':Abhay}\n"
   ]
  },
  {
   "cell_type": "code",
   "execution_count": 19,
   "metadata": {},
   "outputs": [],
   "source": [
    "points = {'Abhishek': 3, 'Ravindu':0, 'Zack': 3, 'Kedar': 2, 'Monal': 3, 'Daniel': 1, 'Harish' :2, 'Abhay':2}\n",
    "games_played = {'Abhishek': 0, 'Ravindu':0, 'Zack': 0, 'Kedar': 0, 'Monal': 0, 'Daniel': 0, 'Harish' :0, 'Abhay':0}\n",
    "\n",
    "for i in j:\n",
    "    for k in people:\n",
    "        if i['country'] in people[k]:\n",
    "            points[k] += 3*i['wins'] + 1*i['draws']\n",
    "            games_played[k] += i['wins'] + i['losses'] + i['draws']"
   ]
  },
  {
   "cell_type": "code",
   "execution_count": 20,
   "metadata": {},
   "outputs": [],
   "source": [
    "final = pd.Series(points, name='Points').to_frame()\n",
    "final = final.reset_index()\n",
    "final['Games Played'] = final['index'].map(games_played)"
   ]
  },
  {
   "cell_type": "code",
   "execution_count": 21,
   "metadata": {},
   "outputs": [],
   "source": [
    "five38 = pd.read_csv('https://projects.fivethirtyeight.com/soccer-api/international/2018/wc_matches.csv')"
   ]
  },
  {
   "cell_type": "code",
   "execution_count": 22,
   "metadata": {},
   "outputs": [],
   "source": [
    "okay = five38[five38['score1'].isnull()]"
   ]
  },
  {
   "cell_type": "code",
   "execution_count": 23,
   "metadata": {},
   "outputs": [],
   "source": [
    "winner = []\n",
    "loser = []\n",
    "draw = []\n",
    "for index, row in okay.iterrows():\n",
    "    if int(row['proj_score1']) > int(row['proj_score2']):\n",
    "        winner.append(row['team1'])\n",
    "        loser.append(row['team2'])\n",
    "    if int(row['proj_score1']) < int(row['proj_score2']):\n",
    "        winner.append(row['team2'])\n",
    "        loser.append(row['team1'])\n",
    "    if int(row['proj_score1']) > int(row['proj_score2']):\n",
    "        draw.append(row['team1'])\n",
    "        draw.append(row['team2'])\n",
    "\n",
    "    "
   ]
  },
  {
   "cell_type": "code",
   "execution_count": 24,
   "metadata": {},
   "outputs": [],
   "source": [
    "projected_remaining_group_points = {'Abhishek': 0, 'Ravindu':0, 'Zack': 0, 'Kedar': 0, 'Monal': 0, 'Daniel': 0, 'Harish' :0, 'Abhay':0}\n",
    "for i in winner:\n",
    "    for k in people:\n",
    "         if i in people[k]:\n",
    "            projected_remaining_group_points[k] += 3\n",
    "for l in draw:\n",
    "    for m in people:\n",
    "         if l in people[m]:\n",
    "            projected_remaining_group_points[m] += 1              "
   ]
  },
  {
   "cell_type": "code",
   "execution_count": 25,
   "metadata": {},
   "outputs": [],
   "source": [
    "final['Projected Remaining Group Points'] = final['index'].map(projected_remaining_group_points)\n",
    "final['PPR'] = final['Games Played'].map(lambda x: (12-x)*3)"
   ]
  },
  {
   "cell_type": "code",
   "execution_count": 26,
   "metadata": {},
   "outputs": [],
   "source": [
    "final = final.set_index('index')"
   ]
  },
  {
   "cell_type": "code",
   "execution_count": 27,
   "metadata": {},
   "outputs": [
    {
     "data": {
      "text/html": [
       "<div>\n",
       "<style scoped>\n",
       "    .dataframe tbody tr th:only-of-type {\n",
       "        vertical-align: middle;\n",
       "    }\n",
       "\n",
       "    .dataframe tbody tr th {\n",
       "        vertical-align: top;\n",
       "    }\n",
       "\n",
       "    .dataframe thead th {\n",
       "        text-align: right;\n",
       "    }\n",
       "</style>\n",
       "<table border=\"1\" class=\"dataframe\">\n",
       "  <thead>\n",
       "    <tr style=\"text-align: right;\">\n",
       "      <th></th>\n",
       "      <th>Points</th>\n",
       "      <th>Games Played</th>\n",
       "      <th>Projected Remaining Group Points</th>\n",
       "      <th>PPR</th>\n",
       "    </tr>\n",
       "    <tr>\n",
       "      <th>index</th>\n",
       "      <th></th>\n",
       "      <th></th>\n",
       "      <th></th>\n",
       "      <th></th>\n",
       "    </tr>\n",
       "  </thead>\n",
       "  <tbody>\n",
       "    <tr>\n",
       "      <th>Monal</th>\n",
       "      <td>20</td>\n",
       "      <td>8</td>\n",
       "      <td>6</td>\n",
       "      <td>12</td>\n",
       "    </tr>\n",
       "    <tr>\n",
       "      <th>Zack</th>\n",
       "      <td>14</td>\n",
       "      <td>8</td>\n",
       "      <td>4</td>\n",
       "      <td>12</td>\n",
       "    </tr>\n",
       "    <tr>\n",
       "      <th>Kedar</th>\n",
       "      <td>13</td>\n",
       "      <td>8</td>\n",
       "      <td>3</td>\n",
       "      <td>12</td>\n",
       "    </tr>\n",
       "    <tr>\n",
       "      <th>Abhishek</th>\n",
       "      <td>12</td>\n",
       "      <td>8</td>\n",
       "      <td>7</td>\n",
       "      <td>12</td>\n",
       "    </tr>\n",
       "    <tr>\n",
       "      <th>Daniel</th>\n",
       "      <td>12</td>\n",
       "      <td>8</td>\n",
       "      <td>0</td>\n",
       "      <td>12</td>\n",
       "    </tr>\n",
       "    <tr>\n",
       "      <th>Harish</th>\n",
       "      <td>9</td>\n",
       "      <td>8</td>\n",
       "      <td>5</td>\n",
       "      <td>12</td>\n",
       "    </tr>\n",
       "    <tr>\n",
       "      <th>Ravindu</th>\n",
       "      <td>6</td>\n",
       "      <td>8</td>\n",
       "      <td>3</td>\n",
       "      <td>12</td>\n",
       "    </tr>\n",
       "    <tr>\n",
       "      <th>Abhay</th>\n",
       "      <td>5</td>\n",
       "      <td>6</td>\n",
       "      <td>6</td>\n",
       "      <td>18</td>\n",
       "    </tr>\n",
       "  </tbody>\n",
       "</table>\n",
       "</div>"
      ],
      "text/plain": [
       "          Points  Games Played  Projected Remaining Group Points  PPR\n",
       "index                                                                \n",
       "Monal         20             8                                 6   12\n",
       "Zack          14             8                                 4   12\n",
       "Kedar         13             8                                 3   12\n",
       "Abhishek      12             8                                 7   12\n",
       "Daniel        12             8                                 0   12\n",
       "Harish         9             8                                 5   12\n",
       "Ravindu        6             8                                 3   12\n",
       "Abhay          5             6                                 6   18"
      ]
     },
     "execution_count": 27,
     "metadata": {},
     "output_type": "execute_result"
    }
   ],
   "source": [
    "final.sort_values(by='Points', ascending=False)"
   ]
  },
  {
   "cell_type": "code",
   "execution_count": null,
   "metadata": {},
   "outputs": [],
   "source": []
  }
 ],
 "metadata": {
  "kernelspec": {
   "display_name": "Python 3",
   "language": "python",
   "name": "python3"
  },
  "language_info": {
   "codemirror_mode": {
    "name": "ipython",
    "version": 3
   },
   "file_extension": ".py",
   "mimetype": "text/x-python",
   "name": "python",
   "nbconvert_exporter": "python",
   "pygments_lexer": "ipython3",
   "version": "3.5.2"
  }
 },
 "nbformat": 4,
 "nbformat_minor": 2
}
