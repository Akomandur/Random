{
 "cells": [
  {
   "cell_type": "code",
   "execution_count": 1,
   "metadata": {},
   "outputs": [],
   "source": [
    "import json\n",
    "import requests\n",
    "import pandas as pd"
   ]
  },
  {
   "cell_type": "code",
   "execution_count": 2,
   "metadata": {},
   "outputs": [],
   "source": [
    "data = requests.get('https://worldcup.sfg.io/teams/results')"
   ]
  },
  {
   "cell_type": "code",
   "execution_count": 3,
   "metadata": {},
   "outputs": [],
   "source": [
    "j = data.json()"
   ]
  },
  {
   "cell_type": "code",
   "execution_count": 4,
   "metadata": {},
   "outputs": [],
   "source": [
    "Abhishek = ['Brazil', 'Denmark', 'Switzerland', 'Tunisia']\n",
    "Ravindu = ['Germany', 'Peru', 'Serbia', 'Saudi Arabia']\n",
    "Zack = ['Spain', 'Russia', 'Sweden', 'Iceland']\n",
    "Kedar = ['Belgium', 'Mexico', 'Egypt', 'Australia']\n",
    "Monal = ['France', 'Croatia', 'Senegal', 'Japan']\n",
    "Daniel = ['Uruguay', 'Poland', 'Nigeria', 'Iran']\n",
    "Harish = ['England', 'Colombia', 'Costa Rica', 'Morocco']\n",
    "people = {'Abhishek': Abhishek, 'Ravindu':Ravindu, 'Zack': Zack, 'Kedar': Kedar, 'Monal': Monal, 'Daniel': Daniel, 'Harish' :Harish}\n"
   ]
  },
  {
   "cell_type": "code",
   "execution_count": 5,
   "metadata": {},
   "outputs": [],
   "source": [
    "points = {'Abhishek': 0, 'Ravindu':0, 'Zack': 0, 'Kedar': 0, 'Monal': 0, 'Daniel': 0, 'Harish' :0}\n",
    "games_played = {'Abhishek': 0, 'Ravindu':0, 'Zack': 0, 'Kedar': 0, 'Monal': 0, 'Daniel': 0, 'Harish' :0}\n",
    "\n",
    "for i in j:\n",
    "    for k in people:\n",
    "        if i['country'] in people[k]:\n",
    "            points[k] += 3*i['wins'] + 1*i['draws']\n",
    "            games_played[k] += i['wins'] + i['losses'] + i['draws']"
   ]
  },
  {
   "cell_type": "code",
   "execution_count": 6,
   "metadata": {},
   "outputs": [],
   "source": [
    "final = pd.Series(points, name='Points').to_frame()\n",
    "final['Games Played'] = games_played.values()"
   ]
  },
  {
   "cell_type": "code",
   "execution_count": 7,
   "metadata": {},
   "outputs": [
    {
     "data": {
      "text/html": [
       "<div>\n",
       "<style scoped>\n",
       "    .dataframe tbody tr th:only-of-type {\n",
       "        vertical-align: middle;\n",
       "    }\n",
       "\n",
       "    .dataframe tbody tr th {\n",
       "        vertical-align: top;\n",
       "    }\n",
       "\n",
       "    .dataframe thead th {\n",
       "        text-align: right;\n",
       "    }\n",
       "</style>\n",
       "<table border=\"1\" class=\"dataframe\">\n",
       "  <thead>\n",
       "    <tr style=\"text-align: right;\">\n",
       "      <th></th>\n",
       "      <th>Points</th>\n",
       "      <th>Games Played</th>\n",
       "    </tr>\n",
       "  </thead>\n",
       "  <tbody>\n",
       "    <tr>\n",
       "      <th>Monal</th>\n",
       "      <td>18</td>\n",
       "      <td>8</td>\n",
       "    </tr>\n",
       "    <tr>\n",
       "      <th>Zack</th>\n",
       "      <td>14</td>\n",
       "      <td>7</td>\n",
       "    </tr>\n",
       "    <tr>\n",
       "      <th>Abhishek</th>\n",
       "      <td>12</td>\n",
       "      <td>7</td>\n",
       "    </tr>\n",
       "    <tr>\n",
       "      <th>Daniel</th>\n",
       "      <td>12</td>\n",
       "      <td>6</td>\n",
       "    </tr>\n",
       "    <tr>\n",
       "      <th>Kedar</th>\n",
       "      <td>10</td>\n",
       "      <td>6</td>\n",
       "    </tr>\n",
       "    <tr>\n",
       "      <th>Harish</th>\n",
       "      <td>3</td>\n",
       "      <td>7</td>\n",
       "    </tr>\n",
       "    <tr>\n",
       "      <th>Ravindu</th>\n",
       "      <td>3</td>\n",
       "      <td>7</td>\n",
       "    </tr>\n",
       "  </tbody>\n",
       "</table>\n",
       "</div>"
      ],
      "text/plain": [
       "          Points  Games Played\n",
       "Monal         18             8\n",
       "Zack          14             7\n",
       "Abhishek      12             7\n",
       "Daniel        12             6\n",
       "Kedar         10             6\n",
       "Harish         3             7\n",
       "Ravindu        3             7"
      ]
     },
     "execution_count": 7,
     "metadata": {},
     "output_type": "execute_result"
    }
   ],
   "source": [
    "final.sort_values(by='Points', ascending=False)"
   ]
  },
  {
   "cell_type": "code",
   "execution_count": null,
   "metadata": {},
   "outputs": [],
   "source": []
  },
  {
   "cell_type": "code",
   "execution_count": null,
   "metadata": {},
   "outputs": [],
   "source": []
  }
 ],
 "metadata": {
  "kernelspec": {
   "display_name": "Python 3",
   "language": "python",
   "name": "python3"
  },
  "language_info": {
   "codemirror_mode": {
    "name": "ipython",
    "version": 3
   },
   "file_extension": ".py",
   "mimetype": "text/x-python",
   "name": "python",
   "nbconvert_exporter": "python",
   "pygments_lexer": "ipython3",
   "version": "3.5.2"
  }
 },
 "nbformat": 4,
 "nbformat_minor": 2
}
