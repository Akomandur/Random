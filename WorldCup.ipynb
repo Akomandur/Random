{
 "cells": [
  {
   "cell_type": "code",
   "execution_count": 68,
   "metadata": {},
   "outputs": [],
   "source": [
    "import json\n",
    "import requests\n",
    "import pandas as pd\n",
    "from bs4 import BeautifulSoup"
   ]
  },
  {
   "cell_type": "code",
   "execution_count": 69,
   "metadata": {},
   "outputs": [],
   "source": [
    "data = requests.get('https://worldcup.sfg.io/teams/results')"
   ]
  },
  {
   "cell_type": "code",
   "execution_count": 70,
   "metadata": {},
   "outputs": [],
   "source": [
    "j = data.json()"
   ]
  },
  {
   "cell_type": "code",
   "execution_count": 71,
   "metadata": {},
   "outputs": [],
   "source": [
    "Abhishek = ['Brazil', 'Denmark', 'Switzerland', 'Tunisia']\n",
    "Ravindu = ['Germany', 'Peru', 'Serbia', 'Saudi Arabia']\n",
    "Zack = ['Spain', 'Russia', 'Sweden', 'Iceland']\n",
    "Kedar = ['Belgium', 'Mexico', 'Egypt', 'Australia']\n",
    "Monal = ['France', 'Croatia', 'Senegal', 'Japan']\n",
    "Daniel = ['Uruguay', 'Poland', 'Nigeria', 'Iran']\n",
    "Harish = ['England', 'Colombia', 'Costa Rica', 'Morocco']\n",
    "people = {'Abhishek': Abhishek, 'Ravindu':Ravindu, 'Zack': Zack, 'Kedar': Kedar, 'Monal': Monal, 'Daniel': Daniel, 'Harish' :Harish}\n"
   ]
  },
  {
   "cell_type": "code",
   "execution_count": 72,
   "metadata": {},
   "outputs": [],
   "source": [
    "points = {'Abhishek': 0, 'Ravindu':0, 'Zack': 0, 'Kedar': 0, 'Monal': 0, 'Daniel': 0, 'Harish' :0}\n",
    "games_played = {'Abhishek': 0, 'Ravindu':0, 'Zack': 0, 'Kedar': 0, 'Monal': 0, 'Daniel': 0, 'Harish' :0}\n",
    "\n",
    "for i in j:\n",
    "    for k in people:\n",
    "        if i['country'] in people[k]:\n",
    "            points[k] += 3*i['wins'] + 1*i['draws']\n",
    "            games_played[k] += i['wins'] + i['losses'] + i['draws']"
   ]
  },
  {
   "cell_type": "code",
   "execution_count": 80,
   "metadata": {},
   "outputs": [],
   "source": [
    "final = pd.Series(points, name='Points').to_frame()\n",
    "final = final.reset_index()\n",
    "final['Games Played'] = final['index'].map(games_played)"
   ]
  },
  {
   "cell_type": "code",
   "execution_count": 59,
   "metadata": {},
   "outputs": [],
   "source": [
    "five38 = pd.read_csv('https://projects.fivethirtyeight.com/soccer-api/international/2018/wc_matches.csv')"
   ]
  },
  {
   "cell_type": "code",
   "execution_count": 60,
   "metadata": {},
   "outputs": [],
   "source": [
    "okay = five38[five38['score1'].isnull()]"
   ]
  },
  {
   "cell_type": "code",
   "execution_count": 61,
   "metadata": {},
   "outputs": [],
   "source": [
    "winner = []\n",
    "loser = []\n",
    "draw = []\n",
    "for index, row in okay.iterrows():\n",
    "    if int(row['proj_score1']) > int(row['proj_score2']):\n",
    "        winner.append(row['team1'])\n",
    "        loser.append(row['team2'])\n",
    "    if int(row['proj_score1']) < int(row['proj_score2']):\n",
    "        winner.append(row['team2'])\n",
    "        loser.append(row['team1'])\n",
    "    if int(row['proj_score1']) > int(row['proj_score2']):\n",
    "        draw.append(row['team1'])\n",
    "        draw.append(row['team2'])\n",
    "\n",
    "    "
   ]
  },
  {
   "cell_type": "code",
   "execution_count": 62,
   "metadata": {},
   "outputs": [],
   "source": [
    "projected_remaining_group_points = {'Abhishek': 0, 'Ravindu':0, 'Zack': 0, 'Kedar': 0, 'Monal': 0, 'Daniel': 0, 'Harish' :0}\n",
    "for i in winner:\n",
    "    for k in people:\n",
    "         if i in people[k]:\n",
    "            projected_remaining_group_points[k] += 3\n",
    "for l in draw:\n",
    "    for m in people:\n",
    "         if l in people[m]:\n",
    "            projected_remaining_group_points[m] += 1              "
   ]
  },
  {
   "cell_type": "code",
   "execution_count": 82,
   "metadata": {},
   "outputs": [],
   "source": [
    "final['Projected Remaining Group Points'] = final['index'].map(projected_remaining_group_points)"
   ]
  },
  {
   "cell_type": "code",
   "execution_count": 85,
   "metadata": {},
   "outputs": [],
   "source": [
    "final = final.set_index('index')"
   ]
  },
  {
   "cell_type": "code",
   "execution_count": 86,
   "metadata": {},
   "outputs": [
    {
     "data": {
      "text/html": [
       "<div>\n",
       "<style scoped>\n",
       "    .dataframe tbody tr th:only-of-type {\n",
       "        vertical-align: middle;\n",
       "    }\n",
       "\n",
       "    .dataframe tbody tr th {\n",
       "        vertical-align: top;\n",
       "    }\n",
       "\n",
       "    .dataframe thead th {\n",
       "        text-align: right;\n",
       "    }\n",
       "</style>\n",
       "<table border=\"1\" class=\"dataframe\">\n",
       "  <thead>\n",
       "    <tr style=\"text-align: right;\">\n",
       "      <th></th>\n",
       "      <th>Points</th>\n",
       "      <th>Games Played</th>\n",
       "      <th>Projected Remaining Group Points</th>\n",
       "    </tr>\n",
       "    <tr>\n",
       "      <th>index</th>\n",
       "      <th></th>\n",
       "      <th></th>\n",
       "      <th></th>\n",
       "    </tr>\n",
       "  </thead>\n",
       "  <tbody>\n",
       "    <tr>\n",
       "      <th>Monal</th>\n",
       "      <td>18</td>\n",
       "      <td>6</td>\n",
       "      <td>6</td>\n",
       "    </tr>\n",
       "    <tr>\n",
       "      <th>Zack</th>\n",
       "      <td>14</td>\n",
       "      <td>8</td>\n",
       "      <td>4</td>\n",
       "    </tr>\n",
       "    <tr>\n",
       "      <th>Kedar</th>\n",
       "      <td>13</td>\n",
       "      <td>8</td>\n",
       "      <td>3</td>\n",
       "    </tr>\n",
       "    <tr>\n",
       "      <th>Abhishek</th>\n",
       "      <td>12</td>\n",
       "      <td>8</td>\n",
       "      <td>7</td>\n",
       "    </tr>\n",
       "    <tr>\n",
       "      <th>Daniel</th>\n",
       "      <td>12</td>\n",
       "      <td>7</td>\n",
       "      <td>0</td>\n",
       "    </tr>\n",
       "    <tr>\n",
       "      <th>Harish</th>\n",
       "      <td>6</td>\n",
       "      <td>7</td>\n",
       "      <td>5</td>\n",
       "    </tr>\n",
       "    <tr>\n",
       "      <th>Ravindu</th>\n",
       "      <td>6</td>\n",
       "      <td>8</td>\n",
       "      <td>3</td>\n",
       "    </tr>\n",
       "  </tbody>\n",
       "</table>\n",
       "</div>"
      ],
      "text/plain": [
       "          Points  Games Played  Projected Remaining Group Points\n",
       "index                                                           \n",
       "Monal         18             6                                 6\n",
       "Zack          14             8                                 4\n",
       "Kedar         13             8                                 3\n",
       "Abhishek      12             8                                 7\n",
       "Daniel        12             7                                 0\n",
       "Harish         6             7                                 5\n",
       "Ravindu        6             8                                 3"
      ]
     },
     "execution_count": 86,
     "metadata": {},
     "output_type": "execute_result"
    }
   ],
   "source": [
    "final.sort_values(by='Points', ascending=False)"
   ]
  },
  {
   "cell_type": "code",
   "execution_count": null,
   "metadata": {},
   "outputs": [],
   "source": []
  }
 ],
 "metadata": {
  "kernelspec": {
   "display_name": "Python 3",
   "language": "python",
   "name": "python3"
  },
  "language_info": {
   "codemirror_mode": {
    "name": "ipython",
    "version": 3
   },
   "file_extension": ".py",
   "mimetype": "text/x-python",
   "name": "python",
   "nbconvert_exporter": "python",
   "pygments_lexer": "ipython3",
   "version": "3.5.2"
  }
 },
 "nbformat": 4,
 "nbformat_minor": 2
}
