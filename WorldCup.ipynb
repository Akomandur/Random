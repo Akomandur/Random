{
 "cells": [
  {
   "cell_type": "code",
   "execution_count": 113,
   "metadata": {},
   "outputs": [],
   "source": [
    "import json\n",
    "import requests\n",
    "import pandas as pd\n",
    "from bs4 import BeautifulSoup"
   ]
  },
  {
   "cell_type": "code",
   "execution_count": 114,
   "metadata": {},
   "outputs": [],
   "source": [
    "data = requests.get('https://worldcup.sfg.io/teams/results')\n",
    "test = requests.get('https://worldcup.sfg.io/matches')"
   ]
  },
  {
   "cell_type": "code",
   "execution_count": 115,
   "metadata": {},
   "outputs": [],
   "source": [
    "t = test.json()"
   ]
  },
  {
   "cell_type": "code",
   "execution_count": 116,
   "metadata": {},
   "outputs": [],
   "source": [
    "j = data.json()"
   ]
  },
  {
   "cell_type": "code",
   "execution_count": 117,
   "metadata": {},
   "outputs": [],
   "source": [
    "Abhishek = ['Brazil', 'Denmark', 'Switzerland', 'Tunisia']\n",
    "Ravindu = ['Germany', 'Peru', 'Serbia', 'Saudi Arabia']\n",
    "Zack = ['Spain', 'Russia', 'Sweden', 'Iceland']\n",
    "Kedar = ['Belgium', 'Mexico', 'Egypt', 'Australia']\n",
    "Monal = ['France', 'Croatia', 'Senegal', 'Japan']\n",
    "Daniel = ['Uruguay', 'Poland', 'Nigeria', 'Iran']\n",
    "Harish = ['England', 'Colombia', 'Costa Rica', 'Morocco']\n",
    "Abhay = ['Portugal', 'Argentina', 'Panama', 'Korea Republic']\n",
    "people = {'Abhishek': Abhishek, 'Ravindu':Ravindu, 'Zack': Zack, 'Kedar': Kedar, 'Monal': Monal, 'Daniel': Daniel, 'Harish' :Harish, 'Abhay':Abhay}"
   ]
  },
  {
   "cell_type": "code",
   "execution_count": 118,
   "metadata": {},
   "outputs": [],
   "source": [
    "points = {'Abhishek': 3, 'Ravindu':0, 'Zack': 3, 'Kedar': 2, 'Monal': 3, 'Daniel': 1, 'Harish' :2, 'Abhay':2}\n",
    "games_played = {'Abhishek': 0, 'Ravindu':0, 'Zack': 0, 'Kedar': 0, 'Monal': 0, 'Daniel': 0, 'Harish' :0, 'Abhay':0}\n",
    "teams_qualified = {'Abhishek': 3, 'Ravindu':0, 'Zack': 3, 'Kedar': 2, 'Monal': 3, 'Daniel': 1, 'Harish' :2, 'Abhay':2}\n",
    "total_goal_differential = {'Abhishek': 0, 'Ravindu':0, 'Zack': 0, 'Kedar': 0, 'Monal': 0, 'Daniel': 0, 'Harish' :0, 'Abhay':0}\n",
    "\n",
    "for i in j:\n",
    "    for k in people:\n",
    "        if i['country'] in people[k]:\n",
    "            points[k] += 3*i['wins'] + 1*i['draws']\n",
    "            games_played[k] += i['wins'] + i['losses'] + i['draws']\n",
    "            total_goal_differential[k] += i['goal_differential']"
   ]
  },
  {
   "cell_type": "code",
   "execution_count": 119,
   "metadata": {},
   "outputs": [],
   "source": [
    "final = pd.Series(points, name='Points').to_frame()\n",
    "final = final.reset_index()\n",
    "final['Games Played'] = final['index'].map(games_played)\n",
    "final['Teams Qualified'] = final['index'].map(teams_qualified)\n",
    "final['Total Goal Differential'] = final['index'].map(total_goal_differential)"
   ]
  },
  {
   "cell_type": "code",
   "execution_count": 120,
   "metadata": {},
   "outputs": [],
   "source": [
    "five38 = pd.read_csv('https://projects.fivethirtyeight.com/soccer-api/international/2018/wc_matches.csv')"
   ]
  },
  {
   "cell_type": "code",
   "execution_count": 121,
   "metadata": {},
   "outputs": [],
   "source": [
    "okay = five38[five38['score1'].isnull()]"
   ]
  },
  {
   "cell_type": "code",
   "execution_count": 122,
   "metadata": {},
   "outputs": [],
   "source": [
    "#Can't draw in knockout stages\n",
    "\n",
    "winner = []\n",
    "loser = []\n",
    "draw = []\n",
    "for index, row in okay.iterrows():\n",
    "#    if int(row['proj_score1']) > int(row['proj_score2']):\n",
    "    if (row['proj_score1']) > (row['proj_score2']):\n",
    "\n",
    "        winner.append(row['team1'])\n",
    "        loser.append(row['team2'])\n",
    "#    if int(row['proj_score1']) < int(row['proj_score2']):\n",
    "    if (row['proj_score1']) < (row['proj_score2']):\n",
    "        winner.append(row['team2'])\n",
    "        loser.append(row['team1'])\n",
    "#    if int(row['proj_score1']) = int(row['proj_score2']):\n",
    "#        draw.append(row['team1'])\n",
    "#        draw.append(row['team2'])\n",
    "\n",
    "    "
   ]
  },
  {
   "cell_type": "code",
   "execution_count": 123,
   "metadata": {},
   "outputs": [],
   "source": [
    "#Can't draw in knockout stages\n",
    "\n",
    "projected_remaining_points = {'Abhishek': 0, 'Ravindu':0, 'Zack': 0, 'Kedar': 0, 'Monal': 0, 'Daniel': 0, 'Harish' :0, 'Abhay':0}\n",
    "for i in winner:\n",
    "    for k in people:\n",
    "         if i in people[k]:\n",
    "            projected_remaining_points[k] += 3\n",
    "#for l in draw:\n",
    "#    for m in people:\n",
    "#         if l in people[m]:\n",
    "#            projected_remaining_group_points[m] += 1              "
   ]
  },
  {
   "cell_type": "code",
   "execution_count": 124,
   "metadata": {},
   "outputs": [],
   "source": [
    "final['Projected Remaining Points Up Till ' + five38['date'].max()] = final['index'].map(projected_remaining_points)\n",
    "#final['PPR'] = final['Games Played'].map(lambda x: (12-x)*3)"
   ]
  },
  {
   "cell_type": "code",
   "execution_count": 125,
   "metadata": {},
   "outputs": [],
   "source": [
    "final = final.set_index('index')"
   ]
  },
  {
   "cell_type": "code",
   "execution_count": 126,
   "metadata": {},
   "outputs": [
    {
     "data": {
      "text/html": [
       "<div>\n",
       "<style scoped>\n",
       "    .dataframe tbody tr th:only-of-type {\n",
       "        vertical-align: middle;\n",
       "    }\n",
       "\n",
       "    .dataframe tbody tr th {\n",
       "        vertical-align: top;\n",
       "    }\n",
       "\n",
       "    .dataframe thead th {\n",
       "        text-align: right;\n",
       "    }\n",
       "</style>\n",
       "<table border=\"1\" class=\"dataframe\">\n",
       "  <thead>\n",
       "    <tr style=\"text-align: right;\">\n",
       "      <th></th>\n",
       "      <th>Points</th>\n",
       "      <th>Games Played</th>\n",
       "      <th>Teams Qualified</th>\n",
       "      <th>Total Goal Differential</th>\n",
       "      <th>Projected Remaining Points Up Till 2018-07-03</th>\n",
       "    </tr>\n",
       "    <tr>\n",
       "      <th>index</th>\n",
       "      <th></th>\n",
       "      <th></th>\n",
       "      <th></th>\n",
       "      <th></th>\n",
       "      <th></th>\n",
       "    </tr>\n",
       "  </thead>\n",
       "  <tbody>\n",
       "    <tr>\n",
       "      <th>Monal</th>\n",
       "      <td>27</td>\n",
       "      <td>12</td>\n",
       "      <td>3</td>\n",
       "      <td>8</td>\n",
       "      <td>6</td>\n",
       "    </tr>\n",
       "    <tr>\n",
       "      <th>Abhishek</th>\n",
       "      <td>23</td>\n",
       "      <td>12</td>\n",
       "      <td>3</td>\n",
       "      <td>3</td>\n",
       "      <td>6</td>\n",
       "    </tr>\n",
       "    <tr>\n",
       "      <th>Zack</th>\n",
       "      <td>21</td>\n",
       "      <td>12</td>\n",
       "      <td>3</td>\n",
       "      <td>5</td>\n",
       "      <td>3</td>\n",
       "    </tr>\n",
       "    <tr>\n",
       "      <th>Daniel</th>\n",
       "      <td>20</td>\n",
       "      <td>12</td>\n",
       "      <td>1</td>\n",
       "      <td>1</td>\n",
       "      <td>0</td>\n",
       "    </tr>\n",
       "    <tr>\n",
       "      <th>Kedar</th>\n",
       "      <td>18</td>\n",
       "      <td>12</td>\n",
       "      <td>2</td>\n",
       "      <td>-1</td>\n",
       "      <td>0</td>\n",
       "    </tr>\n",
       "    <tr>\n",
       "      <th>Harish</th>\n",
       "      <td>16</td>\n",
       "      <td>12</td>\n",
       "      <td>2</td>\n",
       "      <td>3</td>\n",
       "      <td>0</td>\n",
       "    </tr>\n",
       "    <tr>\n",
       "      <th>Abhay</th>\n",
       "      <td>14</td>\n",
       "      <td>12</td>\n",
       "      <td>2</td>\n",
       "      <td>-10</td>\n",
       "      <td>3</td>\n",
       "    </tr>\n",
       "    <tr>\n",
       "      <th>Ravindu</th>\n",
       "      <td>12</td>\n",
       "      <td>12</td>\n",
       "      <td>0</td>\n",
       "      <td>-9</td>\n",
       "      <td>0</td>\n",
       "    </tr>\n",
       "  </tbody>\n",
       "</table>\n",
       "</div>"
      ],
      "text/plain": [
       "          Points  Games Played  Teams Qualified  Total Goal Differential  \\\n",
       "index                                                                      \n",
       "Monal         27            12                3                        8   \n",
       "Abhishek      23            12                3                        3   \n",
       "Zack          21            12                3                        5   \n",
       "Daniel        20            12                1                        1   \n",
       "Kedar         18            12                2                       -1   \n",
       "Harish        16            12                2                        3   \n",
       "Abhay         14            12                2                      -10   \n",
       "Ravindu       12            12                0                       -9   \n",
       "\n",
       "          Projected Remaining Points Up Till 2018-07-03  \n",
       "index                                                    \n",
       "Monal                                                 6  \n",
       "Abhishek                                              6  \n",
       "Zack                                                  3  \n",
       "Daniel                                                0  \n",
       "Kedar                                                 0  \n",
       "Harish                                                0  \n",
       "Abhay                                                 3  \n",
       "Ravindu                                               0  "
      ]
     },
     "execution_count": 126,
     "metadata": {},
     "output_type": "execute_result"
    }
   ],
   "source": [
    "final.sort_values(by='Points', ascending=False)"
   ]
  },
  {
   "cell_type": "markdown",
   "metadata": {},
   "source": [
    "# Stats"
   ]
  },
  {
   "cell_type": "code",
   "execution_count": 127,
   "metadata": {},
   "outputs": [],
   "source": [
    "shots = {'Abhishek': 0, 'Ravindu':0, 'Zack': 0, 'Kedar': 0, 'Monal': 0, 'Daniel': 0, 'Harish' :0, 'Abhay':0}\n",
    "shots_on_target = {'Abhishek': 0, 'Ravindu':0, 'Zack': 0, 'Kedar': 0, 'Monal': 0, 'Daniel': 0, 'Harish' :0, 'Abhay':0}\n",
    "post = {'Abhishek': 0, 'Ravindu':0, 'Zack': 0, 'Kedar': 0, 'Monal': 0, 'Daniel': 0, 'Harish' :0, 'Abhay':0}\n",
    "possession = {'Abhishek': 0, 'Ravindu':0, 'Zack': 0, 'Kedar': 0, 'Monal': 0, 'Daniel': 0, 'Harish' :0, 'Abhay':0}\n",
    "for i in t:\n",
    "    for z in i:\n",
    "        if z == 'home_team_statistics':\n",
    "            for k in people:\n",
    "                if i[z]['country'] in people[k]:\n",
    "                    shots[k] += i[z]['attempts_on_goal']\n",
    "                    shots_on_target[k] += i[z]['on_target']\n",
    "                    post[k] += i[z]['woodwork']"
   ]
  },
  {
   "cell_type": "code",
   "execution_count": 130,
   "metadata": {},
   "outputs": [],
   "source": [
    "stats = pd.DataFrame({\n",
    "    'Shots' : shots,\n",
    "    'Shots on Target' : shots_on_target,\n",
    "    'Post' : post,\n",
    "    'Total Goal Differential' : total_goal_differential\n",
    "})"
   ]
  },
  {
   "cell_type": "code",
   "execution_count": 131,
   "metadata": {},
   "outputs": [
    {
     "data": {
      "text/html": [
       "<div>\n",
       "<style scoped>\n",
       "    .dataframe tbody tr th:only-of-type {\n",
       "        vertical-align: middle;\n",
       "    }\n",
       "\n",
       "    .dataframe tbody tr th {\n",
       "        vertical-align: top;\n",
       "    }\n",
       "\n",
       "    .dataframe thead th {\n",
       "        text-align: right;\n",
       "    }\n",
       "</style>\n",
       "<table border=\"1\" class=\"dataframe\">\n",
       "  <thead>\n",
       "    <tr style=\"text-align: right;\">\n",
       "      <th></th>\n",
       "      <th>Post</th>\n",
       "      <th>Shots</th>\n",
       "      <th>Shots on Target</th>\n",
       "      <th>Total Goal Differential</th>\n",
       "    </tr>\n",
       "  </thead>\n",
       "  <tbody>\n",
       "    <tr>\n",
       "      <th>Abhay</th>\n",
       "      <td>1</td>\n",
       "      <td>91</td>\n",
       "      <td>30</td>\n",
       "      <td>-10</td>\n",
       "    </tr>\n",
       "    <tr>\n",
       "      <th>Abhishek</th>\n",
       "      <td>2</td>\n",
       "      <td>76</td>\n",
       "      <td>23</td>\n",
       "      <td>3</td>\n",
       "    </tr>\n",
       "    <tr>\n",
       "      <th>Daniel</th>\n",
       "      <td>1</td>\n",
       "      <td>87</td>\n",
       "      <td>26</td>\n",
       "      <td>1</td>\n",
       "    </tr>\n",
       "    <tr>\n",
       "      <th>Harish</th>\n",
       "      <td>0</td>\n",
       "      <td>56</td>\n",
       "      <td>17</td>\n",
       "      <td>3</td>\n",
       "    </tr>\n",
       "    <tr>\n",
       "      <th>Kedar</th>\n",
       "      <td>1</td>\n",
       "      <td>79</td>\n",
       "      <td>26</td>\n",
       "      <td>-1</td>\n",
       "    </tr>\n",
       "    <tr>\n",
       "      <th>Monal</th>\n",
       "      <td>1</td>\n",
       "      <td>59</td>\n",
       "      <td>20</td>\n",
       "      <td>8</td>\n",
       "    </tr>\n",
       "    <tr>\n",
       "      <th>Ravindu</th>\n",
       "      <td>4</td>\n",
       "      <td>103</td>\n",
       "      <td>31</td>\n",
       "      <td>-9</td>\n",
       "    </tr>\n",
       "    <tr>\n",
       "      <th>Zack</th>\n",
       "      <td>1</td>\n",
       "      <td>70</td>\n",
       "      <td>24</td>\n",
       "      <td>5</td>\n",
       "    </tr>\n",
       "  </tbody>\n",
       "</table>\n",
       "</div>"
      ],
      "text/plain": [
       "          Post  Shots  Shots on Target  Total Goal Differential\n",
       "Abhay        1     91               30                      -10\n",
       "Abhishek     2     76               23                        3\n",
       "Daniel       1     87               26                        1\n",
       "Harish       0     56               17                        3\n",
       "Kedar        1     79               26                       -1\n",
       "Monal        1     59               20                        8\n",
       "Ravindu      4    103               31                       -9\n",
       "Zack         1     70               24                        5"
      ]
     },
     "execution_count": 131,
     "metadata": {},
     "output_type": "execute_result"
    }
   ],
   "source": [
    "stats"
   ]
  },
  {
   "cell_type": "code",
   "execution_count": null,
   "metadata": {},
   "outputs": [],
   "source": []
  }
 ],
 "metadata": {
  "kernelspec": {
   "display_name": "Python 3",
   "language": "python",
   "name": "python3"
  },
  "language_info": {
   "codemirror_mode": {
    "name": "ipython",
    "version": 3
   },
   "file_extension": ".py",
   "mimetype": "text/x-python",
   "name": "python",
   "nbconvert_exporter": "python",
   "pygments_lexer": "ipython3",
   "version": "3.5.2"
  }
 },
 "nbformat": 4,
 "nbformat_minor": 2
}
